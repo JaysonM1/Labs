{
 "cells": [
  {
   "cell_type": "markdown",
   "metadata": {},
   "source": [
    "Analyze Risk on a Loan Portfolio using Statistical Tests in Jupyter"
   ]
  },
  {
   "cell_type": "code",
   "execution_count": null,
   "metadata": {},
   "outputs": [],
   "source": [
    "import pandas as pd"
   ]
  },
  {
   "cell_type": "code",
   "execution_count": null,
   "metadata": {},
   "outputs": [],
   "source": [
    "df = pd.read_csv(\"loan-dataset-1.csv\")"
   ]
  },
  {
   "cell_type": "code",
   "execution_count": null,
   "metadata": {},
   "outputs": [
    {
     "data": {
      "text/html": [
       "<div>\n",
       "<style scoped>\n",
       "    .dataframe tbody tr th:only-of-type {\n",
       "        vertical-align: middle;\n",
       "    }\n",
       "\n",
       "    .dataframe tbody tr th {\n",
       "        vertical-align: top;\n",
       "    }\n",
       "\n",
       "    .dataframe thead th {\n",
       "        text-align: right;\n",
       "    }\n",
       "</style>\n",
       "<table border=\"1\" class=\"dataframe\">\n",
       "  <thead>\n",
       "    <tr style=\"text-align: right;\">\n",
       "      <th></th>\n",
       "      <th>loan_id</th>\n",
       "      <th>principal_loan_amount</th>\n",
       "      <th>request_date</th>\n",
       "      <th>interest_rate</th>\n",
       "      <th>loan_channel</th>\n",
       "      <th>is_approved</th>\n",
       "      <th>is_default</th>\n",
       "      <th>customer_monthly_income</th>\n",
       "      <th>customer_age</th>\n",
       "      <th>customer_gender</th>\n",
       "      <th>customer_credit_score</th>\n",
       "      <th>customer_zip_code</th>\n",
       "    </tr>\n",
       "  </thead>\n",
       "  <tbody>\n",
       "    <tr>\n",
       "      <th>0</th>\n",
       "      <td>70280c1b-4339-4949-ba69-ad2a6cb6b782</td>\n",
       "      <td>8880</td>\n",
       "      <td>2023-03-06</td>\n",
       "      <td>9.0</td>\n",
       "      <td>WEB</td>\n",
       "      <td>True</td>\n",
       "      <td>NaN</td>\n",
       "      <td>6100</td>\n",
       "      <td>30</td>\n",
       "      <td>Male</td>\n",
       "      <td>3</td>\n",
       "      <td>10007</td>\n",
       "    </tr>\n",
       "    <tr>\n",
       "      <th>1</th>\n",
       "      <td>8a550559-9749-491b-b6aa-7188bc0a488f</td>\n",
       "      <td>13720</td>\n",
       "      <td>2023-05-10</td>\n",
       "      <td>10.0</td>\n",
       "      <td>MOBILE_APP</td>\n",
       "      <td>True</td>\n",
       "      <td>NaN</td>\n",
       "      <td>5150</td>\n",
       "      <td>39</td>\n",
       "      <td>Female</td>\n",
       "      <td>3</td>\n",
       "      <td>10004</td>\n",
       "    </tr>\n",
       "    <tr>\n",
       "      <th>2</th>\n",
       "      <td>5644d27e-e05e-4a40-bef3-64187892338f</td>\n",
       "      <td>2090</td>\n",
       "      <td>2023-02-16</td>\n",
       "      <td>7.5</td>\n",
       "      <td>AGENT</td>\n",
       "      <td>True</td>\n",
       "      <td>NaN</td>\n",
       "      <td>6030</td>\n",
       "      <td>43</td>\n",
       "      <td>Female</td>\n",
       "      <td>3</td>\n",
       "      <td>10003</td>\n",
       "    </tr>\n",
       "    <tr>\n",
       "      <th>3</th>\n",
       "      <td>9d8d17ac-8af9-4936-ba5d-8d5ed5e0cfab</td>\n",
       "      <td>6820</td>\n",
       "      <td>2023-02-26</td>\n",
       "      <td>8.5</td>\n",
       "      <td>MOBILE_APP</td>\n",
       "      <td>NaN</td>\n",
       "      <td>NaN</td>\n",
       "      <td>2150</td>\n",
       "      <td>54</td>\n",
       "      <td>Male</td>\n",
       "      <td>0</td>\n",
       "      <td>10004</td>\n",
       "    </tr>\n",
       "    <tr>\n",
       "      <th>4</th>\n",
       "      <td>4586ad7a-2231-419b-b8e3-ba03b929b56e</td>\n",
       "      <td>13770</td>\n",
       "      <td>2023-04-13</td>\n",
       "      <td>10.0</td>\n",
       "      <td>AFFILIATE</td>\n",
       "      <td>NaN</td>\n",
       "      <td>NaN</td>\n",
       "      <td>5810</td>\n",
       "      <td>28</td>\n",
       "      <td>Female</td>\n",
       "      <td>2</td>\n",
       "      <td>10007</td>\n",
       "    </tr>\n",
       "  </tbody>\n",
       "</table>\n",
       "</div>"
      ],
      "text/plain": [
       "                                loan_id  principal_loan_amount request_date  \\\n",
       "0  70280c1b-4339-4949-ba69-ad2a6cb6b782                   8880   2023-03-06   \n",
       "1  8a550559-9749-491b-b6aa-7188bc0a488f                  13720   2023-05-10   \n",
       "2  5644d27e-e05e-4a40-bef3-64187892338f                   2090   2023-02-16   \n",
       "3  9d8d17ac-8af9-4936-ba5d-8d5ed5e0cfab                   6820   2023-02-26   \n",
       "4  4586ad7a-2231-419b-b8e3-ba03b929b56e                  13770   2023-04-13   \n",
       "\n",
       "   interest_rate loan_channel is_approved is_default  customer_monthly_income  \\\n",
       "0            9.0          WEB        True        NaN                     6100   \n",
       "1           10.0   MOBILE_APP        True        NaN                     5150   \n",
       "2            7.5        AGENT        True        NaN                     6030   \n",
       "3            8.5   MOBILE_APP         NaN        NaN                     2150   \n",
       "4           10.0    AFFILIATE         NaN        NaN                     5810   \n",
       "\n",
       "   customer_age customer_gender  customer_credit_score  customer_zip_code  \n",
       "0            30            Male                      3              10007  \n",
       "1            39          Female                      3              10004  \n",
       "2            43          Female                      3              10003  \n",
       "3            54            Male                      0              10004  \n",
       "4            28          Female                      2              10007  "
      ]
     },
     "execution_count": 48,
     "metadata": {},
     "output_type": "execute_result"
    }
   ],
   "source": [
    "df.head()"
   ]
  },
  {
   "cell_type": "markdown",
   "metadata": {},
   "source": [
    "We need to make sure the data is clean"
   ]
  },
  {
   "cell_type": "markdown",
   "metadata": {},
   "source": [
    "First, are there at least 10,000 distinct rows"
   ]
  },
  {
   "cell_type": "code",
   "execution_count": null,
   "metadata": {},
   "outputs": [
    {
     "name": "stdout",
     "output_type": "stream",
     "text": [
      "Total Rows:  15163\n"
     ]
    }
   ],
   "source": [
    "print(\"Total Rows: \", df.shape[0])"
   ]
  },
  {
   "cell_type": "markdown",
   "metadata": {},
   "source": [
    "Are there any duplicate rows?"
   ]
  },
  {
   "cell_type": "code",
   "execution_count": null,
   "metadata": {},
   "outputs": [
    {
     "name": "stdout",
     "output_type": "stream",
     "text": [
      "There are 163 duplicate rows in the DF\n"
     ]
    }
   ],
   "source": [
    "print('There are', df.duplicated().sum(),'duplicate rows in the DF')"
   ]
  },
  {
   "cell_type": "markdown",
   "metadata": {},
   "source": [
    "Are there NaN values?"
   ]
  },
  {
   "cell_type": "code",
   "execution_count": null,
   "metadata": {},
   "outputs": [
    {
     "name": "stdout",
     "output_type": "stream",
     "text": [
      "There are NaN values in the DataFrame\n",
      "is_approved    True\n",
      "is_default     True\n",
      "dtype: bool \n",
      "\n"
     ]
    }
   ],
   "source": [
    "if df.isna().any().any():\n",
    "    print('There are NaN values in the DataFrame')\n",
    "    print(df.isna().any(axis=0)[df.isna().any()], '\\n')\n",
    "else:\n",
    "    print('There are no NaN values in the DataFrame\\n')"
   ]
  },
  {
   "cell_type": "code",
   "execution_count": null,
   "metadata": {},
   "outputs": [
    {
     "name": "stdout",
     "output_type": "stream",
     "text": [
      "principal_loan_amount: 1000 to 15000\n",
      "request_date: 2023-01-01 to 2023-06-29\n",
      "interest_rate: 7.5 to 10.0\n",
      "loan_channel: ['WEB' 'MOBILE_APP' 'AGENT' 'AFFILIATE' 'DIRECT_SELLING'\n",
      " 'website_revamped' 'ANDROID_V2' 'ANDROID_V3' 'apple_new_v3']\n",
      "is_approved: [True nan]\n",
      "is_default: [nan True]\n",
      "customer_monthly_income: 2000 to 6500\n",
      "customer_age: 22 to 60\n",
      "customer_gender: ['Male' 'Female' 'M' 'F']\n"
     ]
    }
   ],
   "source": [
    "print('principal_loan_amount:', df['principal_loan_amount'].min(), 'to', df['principal_loan_amount'].max())\n",
    "print('request_date:', df['request_date'].min(), 'to', df['request_date'].max())\n",
    "print('interest_rate:', df['interest_rate'].min(), 'to', df['interest_rate'].max())\n",
    "print('loan_channel:', df['loan_channel'].unique())\n",
    "print('is_approved:', df['is_approved'].unique())\n",
    "print('is_default:', df['is_default'].unique())\n",
    "print('customer_monthly_income:', df['customer_monthly_income'].min(), 'to', df['customer_monthly_income'].max())\n",
    "print('customer_age:', df['customer_age'].min(), 'to', df['customer_age'].max())\n",
    "print('customer_gender:', df['customer_gender'].unique())"
   ]
  },
  {
   "cell_type": "markdown",
   "metadata": {},
   "source": [
    "Turn the blank values in the boolean columns to False"
   ]
  },
  {
   "cell_type": "code",
   "execution_count": null,
   "metadata": {},
   "outputs": [
    {
     "data": {
      "text/html": [
       "<div>\n",
       "<style scoped>\n",
       "    .dataframe tbody tr th:only-of-type {\n",
       "        vertical-align: middle;\n",
       "    }\n",
       "\n",
       "    .dataframe tbody tr th {\n",
       "        vertical-align: top;\n",
       "    }\n",
       "\n",
       "    .dataframe thead th {\n",
       "        text-align: right;\n",
       "    }\n",
       "</style>\n",
       "<table border=\"1\" class=\"dataframe\">\n",
       "  <thead>\n",
       "    <tr style=\"text-align: right;\">\n",
       "      <th></th>\n",
       "      <th>loan_id</th>\n",
       "      <th>principal_loan_amount</th>\n",
       "      <th>request_date</th>\n",
       "      <th>interest_rate</th>\n",
       "      <th>loan_channel</th>\n",
       "      <th>is_approved</th>\n",
       "      <th>is_default</th>\n",
       "      <th>customer_monthly_income</th>\n",
       "      <th>customer_age</th>\n",
       "      <th>customer_gender</th>\n",
       "      <th>customer_credit_score</th>\n",
       "      <th>customer_zip_code</th>\n",
       "    </tr>\n",
       "  </thead>\n",
       "  <tbody>\n",
       "    <tr>\n",
       "      <th>0</th>\n",
       "      <td>70280c1b-4339-4949-ba69-ad2a6cb6b782</td>\n",
       "      <td>8880</td>\n",
       "      <td>2023-03-06</td>\n",
       "      <td>9.0</td>\n",
       "      <td>WEB</td>\n",
       "      <td>True</td>\n",
       "      <td>False</td>\n",
       "      <td>6100</td>\n",
       "      <td>30</td>\n",
       "      <td>Male</td>\n",
       "      <td>3</td>\n",
       "      <td>10007</td>\n",
       "    </tr>\n",
       "    <tr>\n",
       "      <th>1</th>\n",
       "      <td>8a550559-9749-491b-b6aa-7188bc0a488f</td>\n",
       "      <td>13720</td>\n",
       "      <td>2023-05-10</td>\n",
       "      <td>10.0</td>\n",
       "      <td>MOBILE_APP</td>\n",
       "      <td>True</td>\n",
       "      <td>False</td>\n",
       "      <td>5150</td>\n",
       "      <td>39</td>\n",
       "      <td>Female</td>\n",
       "      <td>3</td>\n",
       "      <td>10004</td>\n",
       "    </tr>\n",
       "    <tr>\n",
       "      <th>2</th>\n",
       "      <td>5644d27e-e05e-4a40-bef3-64187892338f</td>\n",
       "      <td>2090</td>\n",
       "      <td>2023-02-16</td>\n",
       "      <td>7.5</td>\n",
       "      <td>AGENT</td>\n",
       "      <td>True</td>\n",
       "      <td>False</td>\n",
       "      <td>6030</td>\n",
       "      <td>43</td>\n",
       "      <td>Female</td>\n",
       "      <td>3</td>\n",
       "      <td>10003</td>\n",
       "    </tr>\n",
       "    <tr>\n",
       "      <th>3</th>\n",
       "      <td>9d8d17ac-8af9-4936-ba5d-8d5ed5e0cfab</td>\n",
       "      <td>6820</td>\n",
       "      <td>2023-02-26</td>\n",
       "      <td>8.5</td>\n",
       "      <td>MOBILE_APP</td>\n",
       "      <td>False</td>\n",
       "      <td>False</td>\n",
       "      <td>2150</td>\n",
       "      <td>54</td>\n",
       "      <td>Male</td>\n",
       "      <td>0</td>\n",
       "      <td>10004</td>\n",
       "    </tr>\n",
       "    <tr>\n",
       "      <th>4</th>\n",
       "      <td>4586ad7a-2231-419b-b8e3-ba03b929b56e</td>\n",
       "      <td>13770</td>\n",
       "      <td>2023-04-13</td>\n",
       "      <td>10.0</td>\n",
       "      <td>AFFILIATE</td>\n",
       "      <td>False</td>\n",
       "      <td>False</td>\n",
       "      <td>5810</td>\n",
       "      <td>28</td>\n",
       "      <td>Female</td>\n",
       "      <td>2</td>\n",
       "      <td>10007</td>\n",
       "    </tr>\n",
       "  </tbody>\n",
       "</table>\n",
       "</div>"
      ],
      "text/plain": [
       "                                loan_id  principal_loan_amount request_date  \\\n",
       "0  70280c1b-4339-4949-ba69-ad2a6cb6b782                   8880   2023-03-06   \n",
       "1  8a550559-9749-491b-b6aa-7188bc0a488f                  13720   2023-05-10   \n",
       "2  5644d27e-e05e-4a40-bef3-64187892338f                   2090   2023-02-16   \n",
       "3  9d8d17ac-8af9-4936-ba5d-8d5ed5e0cfab                   6820   2023-02-26   \n",
       "4  4586ad7a-2231-419b-b8e3-ba03b929b56e                  13770   2023-04-13   \n",
       "\n",
       "   interest_rate loan_channel  is_approved  is_default  \\\n",
       "0            9.0          WEB         True       False   \n",
       "1           10.0   MOBILE_APP         True       False   \n",
       "2            7.5        AGENT         True       False   \n",
       "3            8.5   MOBILE_APP        False       False   \n",
       "4           10.0    AFFILIATE        False       False   \n",
       "\n",
       "   customer_monthly_income  customer_age customer_gender  \\\n",
       "0                     6100            30            Male   \n",
       "1                     5150            39          Female   \n",
       "2                     6030            43          Female   \n",
       "3                     2150            54            Male   \n",
       "4                     5810            28          Female   \n",
       "\n",
       "   customer_credit_score  customer_zip_code  \n",
       "0                      3              10007  \n",
       "1                      3              10004  \n",
       "2                      3              10003  \n",
       "3                      0              10004  \n",
       "4                      2              10007  "
      ]
     },
     "execution_count": 53,
     "metadata": {},
     "output_type": "execute_result"
    }
   ],
   "source": [
    "df = df.fillna(False)\n",
    "df.head()"
   ]
  },
  {
   "cell_type": "markdown",
   "metadata": {},
   "source": [
    "The following mapping for loan_channel (case insensitive)\n",
    "\n",
    "website_revamped -> WEB"
   ]
  },
  {
   "cell_type": "code",
   "execution_count": null,
   "metadata": {},
   "outputs": [],
   "source": [
    "df['loan_channel'] = df['loan_channel'].replace('website_revamped', 'WEB')"
   ]
  },
  {
   "cell_type": "markdown",
   "metadata": {},
   "source": [
    "everything that contains ANDROID or APPLE  -> MOBILE_APP"
   ]
  },
  {
   "cell_type": "code",
   "execution_count": null,
   "metadata": {},
   "outputs": [],
   "source": [
    "df['loan_channel'] = df['loan_channel'].str.replace(\"ANDROID\", \"MOBILE_APP\")\n",
    "df['loan_channel'] = df['loan_channel'].str.replace(\"APPLE\", \"MOBILE_APP\")"
   ]
  },
  {
   "cell_type": "markdown",
   "metadata": {},
   "source": [
    "For the gender, risk team does not care which combination you use (either F / M or Female / Male )"
   ]
  },
  {
   "cell_type": "code",
   "execution_count": null,
   "metadata": {},
   "outputs": [],
   "source": [
    "df['customer_gender'] = df['customer_gender'].replace('M', 'MALE')\n",
    "df['customer_gender'] = df['customer_gender'].replace('F', 'FEMALE')"
   ]
  },
  {
   "cell_type": "markdown",
   "metadata": {},
   "source": [
    "Evaluate The Impact of Interest Rates on Loan Default Rates\n",
    "You have the following hypotheses to test:\n",
    "\n",
    "Null hypothesis (from the operations team) : the interest rate has no impact on the loan default rate\n",
    "\n",
    "Alternative hypothesis : interest rate does have an impact on the loan default rate."
   ]
  },
  {
   "cell_type": "code",
   "execution_count": null,
   "metadata": {},
   "outputs": [],
   "source": [
    "median = df['interest_rate'].median()\n",
    "\n",
    "high_rate = df[df['interest_rate'] > median]\n",
    "low_rate = df[df['interest_rate'] <= median]"
   ]
  },
  {
   "cell_type": "code",
   "execution_count": null,
   "metadata": {},
   "outputs": [],
   "source": [
    "high_default_rate = high_rate['is_default'].mean()\n",
    "low_default_rate = low_rate['is_default'].mean()"
   ]
  },
  {
   "cell_type": "code",
   "execution_count": null,
   "metadata": {},
   "outputs": [],
   "source": [
    "from scipy import stats"
   ]
  },
  {
   "cell_type": "code",
   "execution_count": null,
   "metadata": {},
   "outputs": [],
   "source": [
    "t_stat, p_val = stats.ttest_ind(high_rate['is_default'], low_rate['is_default'])"
   ]
  },
  {
   "cell_type": "code",
   "execution_count": null,
   "metadata": {},
   "outputs": [
    {
     "name": "stdout",
     "output_type": "stream",
     "text": [
      "High interest default rate 0.03371605613267724\n",
      "Low interest default rate 0.037205456800330716\n",
      "Two tailed t-test: -1.1091890264137088 p-value: 0.2673662392421917\n"
     ]
    }
   ],
   "source": [
    "print(\"High interest default rate\", high_default_rate)\n",
    "print(\"Low interest default rate\", low_default_rate)\n",
    "print('Two tailed t-test:', t_stat, 'p-value:', p_val)"
   ]
  },
  {
   "cell_type": "markdown",
   "metadata": {},
   "source": [
    "We can safely fail to reject the hypothesis. .267 is greater than .05."
   ]
  },
  {
   "cell_type": "markdown",
   "metadata": {},
   "source": [
    "Evaluate the Relationship Between Income Level and Loan Approval Rates\n",
    "You have the following hypotheses to test:\n",
    "\n",
    "Null hypothesis (from the operations team) : customer income level has no impact on the loan approval rate\n",
    "\n",
    "Alternative hypothesis : customer income level impacts the loan approval rate\n",
    "\n",
    "Use logistic regression analysis to evaluate the impact of customer income level on loan approval rates. The customer income levels are separated into these groups:\n",
    "\n",
    "less than 2500\n",
    "\n",
    "2500 to 5000\n",
    "\n",
    "5000 to 7500\n",
    "\n",
    "more than 7500\n",
    "\n"
   ]
  },
  {
   "cell_type": "code",
   "execution_count": null,
   "metadata": {},
   "outputs": [],
   "source": [
    "import numpy as np\n",
    "income_groups = pd.cut(df['customer_monthly_income'], bins=[0, 2500, 5000, 7500, np.inf])\n",
    "approval_rate = df.groupby(income_groups)['is_approved'].mean()"
   ]
  },
  {
   "cell_type": "code",
   "execution_count": null,
   "metadata": {},
   "outputs": [
    {
     "name": "stdout",
     "output_type": "stream",
     "text": [
      "Optimization terminated successfully.\n",
      "         Current function value: 0.531550\n",
      "         Iterations 5\n",
      "                           Logit Regression Results                           \n",
      "==============================================================================\n",
      "Dep. Variable:            is_approved   No. Observations:                15163\n",
      "Model:                          Logit   Df Residuals:                    15161\n",
      "Method:                           MLE   Df Model:                            1\n",
      "Date:                Sun, 30 Jul 2023   Pseudo R-squ.:               8.483e-06\n",
      "Time:                        12:31:09   Log-Likelihood:                -8059.9\n",
      "converged:                       True   LL-Null:                       -8060.0\n",
      "Covariance Type:            nonrobust   LLR p-value:                    0.7115\n",
      "===========================================================================================\n",
      "                              coef    std err          z      P>|z|      [0.025      0.975]\n",
      "-------------------------------------------------------------------------------------------\n",
      "const                       1.2677      0.067     19.049      0.000       1.137       1.398\n",
      "customer_monthly_income -5.526e-06   1.49e-05     -0.370      0.712   -3.48e-05    2.38e-05\n",
      "===========================================================================================\n"
     ]
    }
   ],
   "source": [
    "import statsmodels.api as sm\n",
    "X = sm.add_constant(df['customer_monthly_income'])\n",
    "y = df['is_approved']\n",
    "model = sm.Logit(y, X).fit()\n",
    "print(model.summary())"
   ]
  },
  {
   "cell_type": "markdown",
   "metadata": {},
   "source": [
    "Since interest rate does not impact the default rate, you need to find out possible variable(s) that affect loan default rate.\n",
    "\n",
    "The risk team suggested the following variable possibilities:\n",
    "\n",
    "customer_monthly_income\n",
    "\n",
    "customer_zip_code"
   ]
  },
  {
   "cell_type": "code",
   "execution_count": null,
   "metadata": {},
   "outputs": [
    {
     "name": "stdout",
     "output_type": "stream",
     "text": [
      "       customer_monthly_income  customer_zip_code\n",
      "0                         6100              10007\n",
      "1                         5150              10004\n",
      "2                         6030              10003\n",
      "3                         2150              10004\n",
      "4                         5810              10007\n",
      "...                        ...                ...\n",
      "15158                     3900              10005\n",
      "15159                     3120              10009\n",
      "15160                     3120              10007\n",
      "15161                     6390              10009\n",
      "15162                     3090              10005\n",
      "\n",
      "[15163 rows x 2 columns]\n",
      "       const  customer_monthly_income  customer_zip_code\n",
      "0        1.0                     6100              10007\n",
      "1        1.0                     5150              10004\n",
      "2        1.0                     6030              10003\n",
      "3        1.0                     2150              10004\n",
      "4        1.0                     5810              10007\n",
      "...      ...                      ...                ...\n",
      "15158    1.0                     3900              10005\n",
      "15159    1.0                     3120              10009\n",
      "15160    1.0                     3120              10007\n",
      "15161    1.0                     6390              10009\n",
      "15162    1.0                     3090              10005\n",
      "\n",
      "[15163 rows x 3 columns]\n"
     ]
    }
   ],
   "source": [
    "X = df[['customer_monthly_income', 'customer_zip_code']]\n",
    "print(X)\n",
    "X = sm.add_constant(X)\n",
    "print(X)"
   ]
  },
  {
   "cell_type": "code",
   "execution_count": null,
   "metadata": {},
   "outputs": [
    {
     "name": "stdout",
     "output_type": "stream",
     "text": [
      "         Current function value: 0.043598\n",
      "         Iterations: 35\n",
      "         Function evaluations: 73\n",
      "         Gradient evaluations: 56\n",
      "                           Logit Regression Results                           \n",
      "==============================================================================\n",
      "Dep. Variable:             is_default   No. Observations:                15163\n",
      "Model:                          Logit   Df Residuals:                    15160\n",
      "Method:                           MLE   Df Model:                            2\n",
      "Date:                Sun, 30 Jul 2023   Pseudo R-squ.:                  0.7184\n",
      "Time:                        12:31:09   Log-Likelihood:                -661.07\n",
      "converged:                      False   LL-Null:                       -2347.7\n",
      "Covariance Type:            nonrobust   LLR p-value:                     0.000\n",
      "===========================================================================================\n",
      "                              coef    std err          z      P>|z|      [0.025      0.975]\n",
      "-------------------------------------------------------------------------------------------\n",
      "const                    4.762e+04   2426.311     19.624      0.000    4.29e+04    5.24e+04\n",
      "customer_monthly_income  9.306e-05   5.81e-05      1.601      0.109   -2.09e-05       0.000\n",
      "customer_zip_code          -4.7604      0.243    -19.625      0.000      -5.236      -4.285\n",
      "===========================================================================================\n",
      "\n",
      "Possibly complete quasi-separation: A fraction 0.69 of observations can be\n",
      "perfectly predicted. This might indicate that there is complete\n",
      "quasi-separation. In this case some parameters will not be identified.\n"
     ]
    },
    {
     "name": "stderr",
     "output_type": "stream",
     "text": [
      "c:\\Users\\jayso\\OneDrive\\Documents\\UdemyLabs\\env\\Lib\\site-packages\\statsmodels\\discrete\\discrete_model.py:2383: RuntimeWarning: overflow encountered in exp\n",
      "  return 1/(1+np.exp(-X))\n",
      "c:\\Users\\jayso\\OneDrive\\Documents\\UdemyLabs\\env\\Lib\\site-packages\\statsmodels\\discrete\\discrete_model.py:2441: RuntimeWarning: divide by zero encountered in log\n",
      "  return np.sum(np.log(self.cdf(q * linpred)))\n",
      "c:\\Users\\jayso\\OneDrive\\Documents\\UdemyLabs\\env\\Lib\\site-packages\\statsmodels\\discrete\\discrete_model.py:2383: RuntimeWarning: overflow encountered in exp\n",
      "  return 1/(1+np.exp(-X))\n",
      "c:\\Users\\jayso\\OneDrive\\Documents\\UdemyLabs\\env\\Lib\\site-packages\\statsmodels\\discrete\\discrete_model.py:2441: RuntimeWarning: divide by zero encountered in log\n",
      "  return np.sum(np.log(self.cdf(q * linpred)))\n",
      "c:\\Users\\jayso\\OneDrive\\Documents\\UdemyLabs\\env\\Lib\\site-packages\\statsmodels\\discrete\\discrete_model.py:2383: RuntimeWarning: overflow encountered in exp\n",
      "  return 1/(1+np.exp(-X))\n",
      "c:\\Users\\jayso\\OneDrive\\Documents\\UdemyLabs\\env\\Lib\\site-packages\\statsmodels\\discrete\\discrete_model.py:2441: RuntimeWarning: divide by zero encountered in log\n",
      "  return np.sum(np.log(self.cdf(q * linpred)))\n",
      "c:\\Users\\jayso\\OneDrive\\Documents\\UdemyLabs\\env\\Lib\\site-packages\\statsmodels\\discrete\\discrete_model.py:2383: RuntimeWarning: overflow encountered in exp\n",
      "  return 1/(1+np.exp(-X))\n",
      "c:\\Users\\jayso\\OneDrive\\Documents\\UdemyLabs\\env\\Lib\\site-packages\\statsmodels\\discrete\\discrete_model.py:2441: RuntimeWarning: divide by zero encountered in log\n",
      "  return np.sum(np.log(self.cdf(q * linpred)))\n",
      "c:\\Users\\jayso\\OneDrive\\Documents\\UdemyLabs\\env\\Lib\\site-packages\\scipy\\optimize\\_optimize.py:1359: OptimizeWarning: Maximum number of iterations has been exceeded.\n",
      "  res = _minimize_bfgs(f, x0, args, fprime, callback=callback, **opts)\n",
      "c:\\Users\\jayso\\OneDrive\\Documents\\UdemyLabs\\env\\Lib\\site-packages\\statsmodels\\base\\model.py:607: ConvergenceWarning: Maximum Likelihood optimization failed to converge. Check mle_retvals\n",
      "  warnings.warn(\"Maximum Likelihood optimization failed to \"\n"
     ]
    }
   ],
   "source": [
    "y = df['is_default']\n",
    "model = sm.Logit(y, X).fit(method='bfgs')\n",
    "print(model.summary())"
   ]
  },
  {
   "cell_type": "code",
   "execution_count": null,
   "metadata": {},
   "outputs": [],
   "source": [
    "from statsmodels.formula.api import ols"
   ]
  },
  {
   "cell_type": "code",
   "execution_count": null,
   "metadata": {},
   "outputs": [],
   "source": [
    "df['is_default'] = df['is_default'].astype(int)\n",
    "formula = 'is_default ~ C(loan_channel)'\n",
    "model = ols(formula, data=df).fit()\n",
    "aov_table = sm.stats.anova_lm(model, typ=2)\n",
    "print(aov_table)"
   ]
  }
 ],
 "metadata": {
  "kernelspec": {
   "display_name": "Python 3 (ipykernel)",
   "language": "python",
   "name": "python3"
  },
  "language_info": {
   "codemirror_mode": {
    "name": "ipython",
    "version": 3
   },
   "file_extension": ".py",
   "mimetype": "text/x-python",
   "name": "python",
   "nbconvert_exporter": "python",
   "pygments_lexer": "ipython3",
   "version": "3.11.2"
  }
 },
 "nbformat": 4,
 "nbformat_minor": 2
}
